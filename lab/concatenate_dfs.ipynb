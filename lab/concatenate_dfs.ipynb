{
 "cells": [
  {
   "cell_type": "code",
   "execution_count": 1,
   "id": "581445df",
   "metadata": {},
   "outputs": [],
   "source": [
    "%load_ext autoreload\n",
    "%autoreload 2"
   ]
  },
  {
   "cell_type": "markdown",
   "id": "89b77c05",
   "metadata": {},
   "source": [
    "# concatenate dfs"
   ]
  },
  {
   "cell_type": "code",
   "execution_count": 17,
   "id": "2d94ed60",
   "metadata": {},
   "outputs": [
    {
     "name": "stdout",
     "output_type": "stream",
     "text": [
      "10040\n",
      "10040\n"
     ]
    }
   ],
   "source": [
    "import pandas as pd\n",
    "import os\n",
    "from parser import Parser\n",
    "parser = Parser()\n",
    "s = 0\n",
    "dfs = []\n",
    "for path in os.listdir(os.path.join('source')):\n",
    "    df_path = parser.read_csv(os.path.join('source', path))\n",
    "    dfs.append(df_path)\n",
    "    s += len(df_path.index)\n",
    "df = pd.concat(dfs)\n",
    "print(len(df.index))\n",
    "print(s)"
   ]
  }
 ],
 "metadata": {
  "kernelspec": {
   "display_name": "Python 3 (ipykernel)",
   "language": "python",
   "name": "python3"
  },
  "language_info": {
   "codemirror_mode": {
    "name": "ipython",
    "version": 3
   },
   "file_extension": ".py",
   "mimetype": "text/x-python",
   "name": "python",
   "nbconvert_exporter": "python",
   "pygments_lexer": "ipython3",
   "version": "3.10.6"
  },
  "vscode": {
   "interpreter": {
    "hash": "9e7d0893c6ed1ab95d46780722d40d580dc55c4bd3c60f238a4c51e50c6842aa"
   }
  }
 },
 "nbformat": 4,
 "nbformat_minor": 5
}
